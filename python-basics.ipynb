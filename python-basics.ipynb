{
 "cells": [
  {
   "cell_type": "code",
   "execution_count": 2,
   "id": "e60e9d89-8307-4a62-9ba8-a1fc52bea2b1",
   "metadata": {},
   "outputs": [],
   "source": [
    "a = 5\n",
    "b = 32\n"
   ]
  },
  {
   "cell_type": "code",
   "execution_count": 3,
   "id": "1990bb78-f324-4d46-9394-ae8b71247850",
   "metadata": {},
   "outputs": [
    {
     "data": {
      "text/plain": [
       "37"
      ]
     },
     "execution_count": 3,
     "metadata": {},
     "output_type": "execute_result"
    }
   ],
   "source": [
    "a + b"
   ]
  },
  {
   "cell_type": "code",
   "execution_count": 4,
   "id": "239db822-e455-4bb2-a015-bacce4509c9c",
   "metadata": {},
   "outputs": [],
   "source": [
    "name = \"saarthak\""
   ]
  },
  {
   "cell_type": "code",
   "execution_count": 5,
   "id": "ebb4804a-1657-4812-bdd4-a2f6c31d6dd4",
   "metadata": {},
   "outputs": [
    {
     "name": "stdout",
     "output_type": "stream",
     "text": [
      "hello world\n"
     ]
    }
   ],
   "source": [
    "print(\"hello world\")"
   ]
  },
  {
   "cell_type": "code",
   "execution_count": 6,
   "id": "5dbddac6-8d9b-49a2-a0d4-78e08824e9ca",
   "metadata": {},
   "outputs": [],
   "source": [
    "#Hello this is comment"
   ]
  },
  {
   "cell_type": "code",
   "execution_count": 7,
   "id": "7b227882-d770-4098-8cc2-6a57e1e93b33",
   "metadata": {},
   "outputs": [
    {
     "name": "stdout",
     "output_type": "stream",
     "text": [
      "<class 'int'>\n"
     ]
    }
   ],
   "source": [
    "print(type(a))"
   ]
  },
  {
   "cell_type": "code",
   "execution_count": 8,
   "id": "757240d0-5d4d-4d8e-9da6-c16a5a9439f6",
   "metadata": {},
   "outputs": [
    {
     "data": {
      "text/plain": [
       "'saarthak'"
      ]
     },
     "execution_count": 8,
     "metadata": {},
     "output_type": "execute_result"
    }
   ],
   "source": [
    "name"
   ]
  },
  {
   "cell_type": "code",
   "execution_count": 9,
   "id": "1bef132a-3921-41ed-a87a-ca44a9c61d4b",
   "metadata": {},
   "outputs": [
    {
     "data": {
      "text/plain": [
       "'SAARTHAK'"
      ]
     },
     "execution_count": 9,
     "metadata": {},
     "output_type": "execute_result"
    }
   ],
   "source": [
    "name.upper()"
   ]
  },
  {
   "cell_type": "code",
   "execution_count": 10,
   "id": "dc1e14d3-11d7-44ad-9b7a-08503f5b941d",
   "metadata": {},
   "outputs": [
    {
     "data": {
      "text/plain": [
       "True"
      ]
     },
     "execution_count": 10,
     "metadata": {},
     "output_type": "execute_result"
    }
   ],
   "source": [
    "name.endswith('ak')"
   ]
  },
  {
   "cell_type": "code",
   "execution_count": 11,
   "id": "9a654253-0dc8-44df-9631-61989b23309a",
   "metadata": {},
   "outputs": [
    {
     "data": {
      "text/plain": [
       "False"
      ]
     },
     "execution_count": 11,
     "metadata": {},
     "output_type": "execute_result"
    }
   ],
   "source": [
    "name.endswith('er')"
   ]
  },
  {
   "cell_type": "code",
   "execution_count": 12,
   "id": "af0c2bc5-0abd-495b-92ac-d9c45aa39090",
   "metadata": {},
   "outputs": [
    {
     "data": {
      "text/plain": [
       "'saarthak'"
      ]
     },
     "execution_count": 12,
     "metadata": {},
     "output_type": "execute_result"
    }
   ],
   "source": [
    "name.lower()"
   ]
  },
  {
   "cell_type": "code",
   "execution_count": 14,
   "id": "833cdaec-b7a1-40de-ad3c-f459546b886b",
   "metadata": {},
   "outputs": [
    {
     "data": {
      "text/plain": [
       "3"
      ]
     },
     "execution_count": 14,
     "metadata": {},
     "output_type": "execute_result"
    }
   ],
   "source": [
    "name.count('a')"
   ]
  },
  {
   "cell_type": "code",
   "execution_count": 20,
   "id": "2b525209-378d-46d3-b539-0f5b126c0e33",
   "metadata": {},
   "outputs": [],
   "source": [
    "a = 11"
   ]
  },
  {
   "cell_type": "code",
   "execution_count": 21,
   "id": "efdd356c-05ef-4849-8392-bd40f8f104a1",
   "metadata": {},
   "outputs": [],
   "source": [
    "b = 5"
   ]
  },
  {
   "cell_type": "code",
   "execution_count": 22,
   "id": "319b1827-21aa-41e7-8f6f-4383e8835f5e",
   "metadata": {},
   "outputs": [
    {
     "data": {
      "text/plain": [
       "16"
      ]
     },
     "execution_count": 22,
     "metadata": {},
     "output_type": "execute_result"
    }
   ],
   "source": [
    "a + b"
   ]
  },
  {
   "cell_type": "code",
   "execution_count": 23,
   "id": "a51859de-05c5-44ba-8459-a4e5857ed2bc",
   "metadata": {},
   "outputs": [
    {
     "data": {
      "text/plain": [
       "2.2"
      ]
     },
     "execution_count": 23,
     "metadata": {},
     "output_type": "execute_result"
    }
   ],
   "source": [
    "a-b\n",
    "a*b\n",
    "a/b"
   ]
  },
  {
   "cell_type": "code",
   "execution_count": 24,
   "id": "d8b56543-0ea2-4eb9-9763-c47ac1243af5",
   "metadata": {},
   "outputs": [
    {
     "data": {
      "text/plain": [
       "2"
      ]
     },
     "execution_count": 24,
     "metadata": {},
     "output_type": "execute_result"
    }
   ],
   "source": [
    "a//b"
   ]
  },
  {
   "cell_type": "code",
   "execution_count": 25,
   "id": "bc4537a4-b11c-4c94-877e-e0dfeca32e08",
   "metadata": {},
   "outputs": [
    {
     "data": {
      "text/plain": [
       "16"
      ]
     },
     "execution_count": 25,
     "metadata": {},
     "output_type": "execute_result"
    }
   ],
   "source": [
    "2**4"
   ]
  },
  {
   "cell_type": "code",
   "execution_count": 26,
   "id": "8e5323cd-f1b6-49a0-bd5b-582423af09f8",
   "metadata": {},
   "outputs": [
    {
     "data": {
      "text/plain": [
       "161051"
      ]
     },
     "execution_count": 26,
     "metadata": {},
     "output_type": "execute_result"
    }
   ],
   "source": [
    "a**b"
   ]
  },
  {
   "cell_type": "code",
   "execution_count": 27,
   "id": "ba303f88-a886-40d7-8216-1d0ba2e6349a",
   "metadata": {},
   "outputs": [
    {
     "data": {
      "text/plain": [
       "1"
      ]
     },
     "execution_count": 27,
     "metadata": {},
     "output_type": "execute_result"
    }
   ],
   "source": [
    "a%b"
   ]
  },
  {
   "cell_type": "code",
   "execution_count": 28,
   "id": "ae493779-67d6-4b9c-85ea-a0f9fee15115",
   "metadata": {},
   "outputs": [
    {
     "data": {
      "text/plain": [
       "False"
      ]
     },
     "execution_count": 28,
     "metadata": {},
     "output_type": "execute_result"
    }
   ],
   "source": [
    "a < b"
   ]
  },
  {
   "cell_type": "code",
   "execution_count": 29,
   "id": "1e0ad97d-a0ce-4fce-8a88-76f1b37c414a",
   "metadata": {},
   "outputs": [
    {
     "data": {
      "text/plain": [
       "True"
      ]
     },
     "execution_count": 29,
     "metadata": {},
     "output_type": "execute_result"
    }
   ],
   "source": [
    "a > b"
   ]
  },
  {
   "cell_type": "code",
   "execution_count": 30,
   "id": "da48f4e9-fccb-4cff-94cd-23bb31968230",
   "metadata": {},
   "outputs": [
    {
     "data": {
      "text/plain": [
       "True"
      ]
     },
     "execution_count": 30,
     "metadata": {},
     "output_type": "execute_result"
    }
   ],
   "source": [
    "a >= b"
   ]
  },
  {
   "cell_type": "code",
   "execution_count": 31,
   "id": "9da45597-93c4-43b9-9ec5-df0df6d8d2a6",
   "metadata": {},
   "outputs": [
    {
     "data": {
      "text/plain": [
       "True"
      ]
     },
     "execution_count": 31,
     "metadata": {},
     "output_type": "execute_result"
    }
   ],
   "source": [
    "a != b"
   ]
  },
  {
   "cell_type": "markdown",
   "id": "c0c9e54f-85b1-447f-954f-5b381044711b",
   "metadata": {},
   "source": [
    "### Taking input from users"
   ]
  },
  {
   "cell_type": "code",
   "execution_count": 32,
   "id": "895070ea-ac9f-4f13-a128-0757be573597",
   "metadata": {},
   "outputs": [
    {
     "name": "stdin",
     "output_type": "stream",
     "text": [
      "enter a number 12\n"
     ]
    }
   ],
   "source": [
    "a = input(\"enter a number\")"
   ]
  },
  {
   "cell_type": "code",
   "execution_count": 33,
   "id": "539ccbba-cd41-4a13-9404-60c1fe498668",
   "metadata": {},
   "outputs": [
    {
     "data": {
      "text/plain": [
       "'12'"
      ]
     },
     "execution_count": 33,
     "metadata": {},
     "output_type": "execute_result"
    }
   ],
   "source": [
    "a"
   ]
  },
  {
   "cell_type": "code",
   "execution_count": 34,
   "id": "8eb0bf9a-46c0-442a-badf-79077b02b8f4",
   "metadata": {},
   "outputs": [
    {
     "data": {
      "text/plain": [
       "str"
      ]
     },
     "execution_count": 34,
     "metadata": {},
     "output_type": "execute_result"
    }
   ],
   "source": [
    "type(a)"
   ]
  },
  {
   "cell_type": "code",
   "execution_count": 35,
   "id": "e7d46a39-d81a-4392-91b4-0e54cac9c7a0",
   "metadata": {},
   "outputs": [
    {
     "data": {
      "text/plain": [
       "12"
      ]
     },
     "execution_count": 35,
     "metadata": {},
     "output_type": "execute_result"
    }
   ],
   "source": [
    "int(a)"
   ]
  },
  {
   "cell_type": "code",
   "execution_count": 36,
   "id": "fb756889-9839-41ae-8384-74969063394f",
   "metadata": {},
   "outputs": [
    {
     "data": {
      "text/plain": [
       "16"
      ]
     },
     "execution_count": 36,
     "metadata": {},
     "output_type": "execute_result"
    }
   ],
   "source": [
    "10 + 2 * 3"
   ]
  },
  {
   "cell_type": "code",
   "execution_count": 37,
   "id": "a03eba28-a799-4253-8075-4e7d2e1cef3f",
   "metadata": {},
   "outputs": [
    {
     "data": {
      "text/plain": [
       "36"
      ]
     },
     "execution_count": 37,
     "metadata": {},
     "output_type": "execute_result"
    }
   ],
   "source": [
    "(10+2)*3"
   ]
  },
  {
   "cell_type": "code",
   "execution_count": 38,
   "id": "0c2bd870-bdf4-476f-910a-5e48dbd53e57",
   "metadata": {},
   "outputs": [
    {
     "data": {
      "text/plain": [
       "512"
      ]
     },
     "execution_count": 38,
     "metadata": {},
     "output_type": "execute_result"
    }
   ],
   "source": [
    "2 ** 3 ** 2"
   ]
  },
  {
   "cell_type": "code",
   "execution_count": 39,
   "id": "415fdf8a-1345-446d-bb9e-418e210698d0",
   "metadata": {},
   "outputs": [],
   "source": [
    "# Right to left"
   ]
  },
  {
   "cell_type": "code",
   "execution_count": null,
   "id": "a5e6ddb5-055f-4b0d-9478-1f52e0a6dcd2",
   "metadata": {},
   "outputs": [],
   "source": []
  },
  {
   "cell_type": "code",
   "execution_count": null,
   "id": "357c538e-a9a4-4132-a952-800ff2d5ad6d",
   "metadata": {},
   "outputs": [],
   "source": []
  },
  {
   "cell_type": "code",
   "execution_count": null,
   "id": "19db3a59-312c-4c7c-a813-dc800a3105f4",
   "metadata": {},
   "outputs": [],
   "source": []
  },
  {
   "cell_type": "code",
   "execution_count": 40,
   "id": "ea95743d-c823-42bb-b949-e30f5c84226b",
   "metadata": {},
   "outputs": [
    {
     "name": "stdout",
     "output_type": "stream",
     "text": [
      "smaller\n"
     ]
    }
   ],
   "source": [
    "a = 4\n",
    "if(a > 54):\n",
    "    print(\"larger\")\n",
    "else:\n",
    "    print(\"smaller\")"
   ]
  },
  {
   "cell_type": "code",
   "execution_count": 50,
   "id": "f7dd38e3-da6c-4f31-8d3f-dfcce3a22e3e",
   "metadata": {},
   "outputs": [],
   "source": [
    "def avg(a, b = 0, c = 2):\n",
    "    d = (a + b+ c) / 3\n",
    "    print(d)"
   ]
  },
  {
   "cell_type": "code",
   "execution_count": 51,
   "id": "b152f901-0f68-4699-8f9f-6e68bc2e5ae2",
   "metadata": {},
   "outputs": [
    {
     "name": "stdout",
     "output_type": "stream",
     "text": [
      "3.0\n"
     ]
    }
   ],
   "source": [
    "avg(3,3,3)"
   ]
  },
  {
   "cell_type": "code",
   "execution_count": 52,
   "id": "52e823ff-cfeb-4210-9aba-bbdc2bfcdea4",
   "metadata": {},
   "outputs": [],
   "source": [
    "d = 33"
   ]
  },
  {
   "cell_type": "code",
   "execution_count": 53,
   "id": "e99cdb13-164f-42e3-a53d-b0933a55f6c4",
   "metadata": {},
   "outputs": [
    {
     "data": {
      "text/plain": [
       "function"
      ]
     },
     "execution_count": 53,
     "metadata": {},
     "output_type": "execute_result"
    }
   ],
   "source": [
    "type(avg)"
   ]
  },
  {
   "cell_type": "code",
   "execution_count": 75,
   "id": "d9179b12-cb3d-46c0-baea-f1fd3317cfb7",
   "metadata": {},
   "outputs": [
    {
     "name": "stdout",
     "output_type": "stream",
     "text": [
      "Hello world, My name is saarthak and i am 23 years old\n"
     ]
    }
   ],
   "source": [
    "print(\"Hello world, My name is {} and i am {} years old\".format(\"saarthak\",23))"
   ]
  },
  {
   "cell_type": "code",
   "execution_count": 63,
   "id": "96da8eb0-f4cf-4df7-a665-cf4e5933140e",
   "metadata": {},
   "outputs": [
    {
     "name": "stdout",
     "output_type": "stream",
     "text": [
      "Hello world, My name is saarthak and i am 3.14 years old\n"
     ]
    }
   ],
   "source": [
    "name = \"saarthak\"\n",
    "age=23\n",
    "pi = 3.142753453\n",
    "print(f\"Hello world, My name is {name} and i am {pi:.2f} years old\")"
   ]
  },
  {
   "cell_type": "code",
   "execution_count": 74,
   "id": "0877fd0a-e050-4919-a9ef-d2267fe1152d",
   "metadata": {},
   "outputs": [
    {
     "name": "stdout",
     "output_type": "stream",
     "text": [
      "3.14\n"
     ]
    }
   ],
   "source": [
    "pi = 3.142753453\n",
    "print(f\"{pi:.2f}\")"
   ]
  },
  {
   "cell_type": "code",
   "execution_count": 68,
   "id": "531fd4a2-0c41-4196-a001-7fd2bca8a3b2",
   "metadata": {},
   "outputs": [
    {
     "name": "stdout",
     "output_type": "stream",
     "text": [
      "python    \n",
      "    python\n",
      "  python  \n"
     ]
    }
   ],
   "source": [
    "print(f\"{'python':<10}\")\n",
    "print(f\"{'python':>10}\")\n",
    "print(f\"{'python':^10}\")"
   ]
  },
  {
   "cell_type": "code",
   "execution_count": 69,
   "id": "7cf5b486-6e20-4c93-a58d-e6a19669e9b7",
   "metadata": {},
   "outputs": [
    {
     "name": "stdout",
     "output_type": "stream",
     "text": [
      "1\n",
      "2\n",
      "43\n",
      "54\n",
      "12\n"
     ]
    }
   ],
   "source": [
    "list = [1,2,43,54,12]\n",
    "for i in list:\n",
    "    print(i)"
   ]
  },
  {
   "cell_type": "code",
   "execution_count": 71,
   "id": "5cc081c5-02ac-4556-a609-ecc79cdcd608",
   "metadata": {},
   "outputs": [
    {
     "name": "stdout",
     "output_type": "stream",
     "text": [
      "2\n",
      "4\n",
      "6\n",
      "8\n",
      "10\n",
      "12\n",
      "14\n",
      "16\n",
      "18\n",
      "20\n"
     ]
    }
   ],
   "source": [
    "for i in range(2, 21):\n",
    "    if(i %2 == 0):\n",
    "        print(i)\n",
    "    else:\n",
    "        continue"
   ]
  },
  {
   "cell_type": "code",
   "execution_count": 76,
   "id": "78aa8bc0-3646-4b80-b1e0-81341c34de08",
   "metadata": {},
   "outputs": [
    {
     "name": "stdout",
     "output_type": "stream",
     "text": [
      "Hello world\n"
     ]
    }
   ],
   "source": [
    "for items in range(5):\n",
    "    pass\n",
    "print(\"Hello world\")"
   ]
  },
  {
   "cell_type": "markdown",
   "id": "bd1dec48-0787-4ec9-b99b-6ba6744e6ee0",
   "metadata": {},
   "source": [
    "## List"
   ]
  },
  {
   "cell_type": "code",
   "execution_count": 1,
   "id": "ffd99caa-d785-44b3-a6ef-f1eaebb3313b",
   "metadata": {},
   "outputs": [],
   "source": [
    "fruits = ['banana', 'mango', 'cherry']"
   ]
  },
  {
   "cell_type": "code",
   "execution_count": 2,
   "id": "44ea6626-3c30-4908-b959-da5d9062766c",
   "metadata": {},
   "outputs": [
    {
     "data": {
      "text/plain": [
       "['banana', 'mango', 'cherry']"
      ]
     },
     "execution_count": 2,
     "metadata": {},
     "output_type": "execute_result"
    }
   ],
   "source": [
    "fruits"
   ]
  },
  {
   "cell_type": "code",
   "execution_count": 3,
   "id": "02e64061-5497-4943-a68a-7b25915c66f1",
   "metadata": {},
   "outputs": [],
   "source": [
    "fruits.append('orange')"
   ]
  },
  {
   "cell_type": "code",
   "execution_count": 4,
   "id": "b80dcb79-9eb7-4b3f-a67f-db964f6e8368",
   "metadata": {},
   "outputs": [
    {
     "data": {
      "text/plain": [
       "['banana', 'mango', 'cherry', 'orange']"
      ]
     },
     "execution_count": 4,
     "metadata": {},
     "output_type": "execute_result"
    }
   ],
   "source": [
    "fruits"
   ]
  },
  {
   "cell_type": "code",
   "execution_count": 5,
   "id": "191cdb71-b0c4-4efc-a459-3ecdbbc24d3a",
   "metadata": {},
   "outputs": [],
   "source": [
    "fruits.sort()"
   ]
  },
  {
   "cell_type": "code",
   "execution_count": 6,
   "id": "242e4534-8511-497e-9013-e63ccc404889",
   "metadata": {},
   "outputs": [
    {
     "data": {
      "text/plain": [
       "['banana', 'cherry', 'mango', 'orange']"
      ]
     },
     "execution_count": 6,
     "metadata": {},
     "output_type": "execute_result"
    }
   ],
   "source": [
    "fruits"
   ]
  },
  {
   "cell_type": "code",
   "execution_count": 7,
   "id": "b0714d13-1377-4456-a8a1-949c7b746538",
   "metadata": {},
   "outputs": [
    {
     "ename": "AttributeError",
     "evalue": "'list' object has no attribute 'push'",
     "output_type": "error",
     "traceback": [
      "\u001b[1;31m---------------------------------------------------------------------------\u001b[0m",
      "\u001b[1;31mAttributeError\u001b[0m                            Traceback (most recent call last)",
      "Cell \u001b[1;32mIn[7], line 1\u001b[0m\n\u001b[1;32m----> 1\u001b[0m fruits\u001b[38;5;241m.\u001b[39mpush(\u001b[38;5;124m'\u001b[39m\u001b[38;5;124mapple\u001b[39m\u001b[38;5;124m'\u001b[39m)\n",
      "\u001b[1;31mAttributeError\u001b[0m: 'list' object has no attribute 'push'"
     ]
    }
   ],
   "source": [
    "fruits.push('apple')"
   ]
  },
  {
   "cell_type": "code",
   "execution_count": 8,
   "id": "eecdda8f-1411-4a33-963f-1913c7a51bf0",
   "metadata": {},
   "outputs": [
    {
     "data": {
      "text/plain": [
       "['banana', 'cherry', 'mango', 'orange']"
      ]
     },
     "execution_count": 8,
     "metadata": {},
     "output_type": "execute_result"
    }
   ],
   "source": [
    "fruits"
   ]
  },
  {
   "cell_type": "code",
   "execution_count": 9,
   "id": "33e35ccf-12d9-4896-9977-a4f7bcce0a37",
   "metadata": {},
   "outputs": [
    {
     "data": {
      "text/plain": [
       "'banana'"
      ]
     },
     "execution_count": 9,
     "metadata": {},
     "output_type": "execute_result"
    }
   ],
   "source": [
    "fruits[0]"
   ]
  },
  {
   "cell_type": "code",
   "execution_count": 10,
   "id": "1eeb4cfe-0686-44a3-8464-ff68e6441752",
   "metadata": {},
   "outputs": [],
   "source": [
    "fruits[2] = 'grapes'"
   ]
  },
  {
   "cell_type": "code",
   "execution_count": 11,
   "id": "8662ed12-8957-4933-96e8-b399ac06c585",
   "metadata": {},
   "outputs": [
    {
     "data": {
      "text/plain": [
       "['banana', 'cherry', 'grapes', 'orange']"
      ]
     },
     "execution_count": 11,
     "metadata": {},
     "output_type": "execute_result"
    }
   ],
   "source": [
    "fruits"
   ]
  },
  {
   "cell_type": "code",
   "execution_count": 12,
   "id": "0df78a89-54ab-4828-b7c4-6c930ea045eb",
   "metadata": {},
   "outputs": [],
   "source": [
    "l = [1,2,3,4]\n",
    "fruits.extend(l)"
   ]
  },
  {
   "cell_type": "code",
   "execution_count": 13,
   "id": "0fa40ba7-7b7a-47c5-90ce-371f2ce7fc1e",
   "metadata": {},
   "outputs": [
    {
     "data": {
      "text/plain": [
       "['banana', 'cherry', 'grapes', 'orange', 1, 2, 3, 4]"
      ]
     },
     "execution_count": 13,
     "metadata": {},
     "output_type": "execute_result"
    }
   ],
   "source": [
    "fruits"
   ]
  },
  {
   "cell_type": "code",
   "execution_count": 14,
   "id": "3ec173f4-e4fa-4671-9ca7-2447237a92d0",
   "metadata": {},
   "outputs": [],
   "source": [
    "fruits.insert(4,5)"
   ]
  },
  {
   "cell_type": "code",
   "execution_count": 15,
   "id": "602414f1-b134-442c-9553-651f3b84e596",
   "metadata": {},
   "outputs": [
    {
     "data": {
      "text/plain": [
       "['banana', 'cherry', 'grapes', 'orange', 5, 1, 2, 3, 4]"
      ]
     },
     "execution_count": 15,
     "metadata": {},
     "output_type": "execute_result"
    }
   ],
   "source": [
    "fruits"
   ]
  },
  {
   "cell_type": "code",
   "execution_count": 16,
   "id": "ed5fdd8d-081f-4001-8389-fc91c60fe3ec",
   "metadata": {},
   "outputs": [
    {
     "data": {
      "text/plain": [
       "5"
      ]
     },
     "execution_count": 16,
     "metadata": {},
     "output_type": "execute_result"
    }
   ],
   "source": [
    "fruits.pop(4)"
   ]
  },
  {
   "cell_type": "code",
   "execution_count": 17,
   "id": "bf9a6666-3d9b-4874-a867-8eaa33df4468",
   "metadata": {},
   "outputs": [
    {
     "data": {
      "text/plain": [
       "['banana', 'cherry', 'grapes', 'orange', 1, 2, 3, 4]"
      ]
     },
     "execution_count": 17,
     "metadata": {},
     "output_type": "execute_result"
    }
   ],
   "source": [
    "fruits"
   ]
  },
  {
   "cell_type": "code",
   "execution_count": 19,
   "id": "069ea456-c39a-4bf9-aa4d-7448953cde00",
   "metadata": {},
   "outputs": [
    {
     "data": {
      "text/plain": [
       "3"
      ]
     },
     "execution_count": 19,
     "metadata": {},
     "output_type": "execute_result"
    }
   ],
   "source": [
    "fruits.index('orange')"
   ]
  },
  {
   "cell_type": "code",
   "execution_count": 20,
   "id": "1cca5e33-9bd3-401f-ae49-90058a05f969",
   "metadata": {},
   "outputs": [
    {
     "data": {
      "text/plain": [
       "0"
      ]
     },
     "execution_count": 20,
     "metadata": {},
     "output_type": "execute_result"
    }
   ],
   "source": [
    "fruits.count(5)"
   ]
  },
  {
   "cell_type": "code",
   "execution_count": 21,
   "id": "3afbb4a3-1ab0-4825-8996-d4f417d6e2c5",
   "metadata": {},
   "outputs": [
    {
     "data": {
      "text/plain": [
       "['banana', 'cherry', 'grapes', 'orange', 1, 2, 3, 4]"
      ]
     },
     "execution_count": 21,
     "metadata": {},
     "output_type": "execute_result"
    }
   ],
   "source": [
    "fruits"
   ]
  },
  {
   "cell_type": "code",
   "execution_count": 22,
   "id": "750d7b9d-db52-4d95-bc01-bf07e01cbc29",
   "metadata": {},
   "outputs": [],
   "source": [
    "fruits.reverse()"
   ]
  },
  {
   "cell_type": "code",
   "execution_count": 23,
   "id": "d2cbb8bf-a871-4c70-a7c1-5ae5bd898888",
   "metadata": {},
   "outputs": [
    {
     "data": {
      "text/plain": [
       "[4, 3, 2, 1, 'orange', 'grapes', 'cherry', 'banana']"
      ]
     },
     "execution_count": 23,
     "metadata": {},
     "output_type": "execute_result"
    }
   ],
   "source": [
    "fruits"
   ]
  },
  {
   "cell_type": "code",
   "execution_count": 24,
   "id": "debb3ea5-8a09-4109-92b1-e354b467c6d2",
   "metadata": {},
   "outputs": [
    {
     "name": "stdout",
     "output_type": "stream",
     "text": [
      "['jack', 'john', 'james']\n"
     ]
    }
   ],
   "source": [
    "str = 'jack-john-james'\n",
    "list2 = str.split('-')\n",
    "print(list2)"
   ]
  },
  {
   "cell_type": "markdown",
   "id": "d1fa41b4-5627-497e-94d4-fc5aa4135852",
   "metadata": {},
   "source": [
    "# Tuples"
   ]
  },
  {
   "cell_type": "code",
   "execution_count": 25,
   "id": "47690dbb-5531-43e9-93a8-2d1dc691d6c1",
   "metadata": {},
   "outputs": [],
   "source": [
    "t = ()"
   ]
  },
  {
   "cell_type": "code",
   "execution_count": 26,
   "id": "344a7fb8-6afc-4d69-ba99-241d71c12176",
   "metadata": {},
   "outputs": [
    {
     "data": {
      "text/plain": [
       "tuple"
      ]
     },
     "execution_count": 26,
     "metadata": {},
     "output_type": "execute_result"
    }
   ],
   "source": [
    "type(t)"
   ]
  },
  {
   "cell_type": "code",
   "execution_count": 27,
   "id": "68444358-a07d-42f8-aa8a-f4ee08122079",
   "metadata": {},
   "outputs": [],
   "source": [
    "t = (1,2,3,4,5)"
   ]
  },
  {
   "cell_type": "code",
   "execution_count": 28,
   "id": "5bc53f7e-ba6e-45be-b91d-ff8611b5dc35",
   "metadata": {},
   "outputs": [
    {
     "data": {
      "text/plain": [
       "(1, 2, 3, 4, 5)"
      ]
     },
     "execution_count": 28,
     "metadata": {},
     "output_type": "execute_result"
    }
   ],
   "source": [
    "t"
   ]
  },
  {
   "cell_type": "code",
   "execution_count": 29,
   "id": "e11f70d1-7ffb-4a35-8a13-eb57feb4c898",
   "metadata": {},
   "outputs": [
    {
     "data": {
      "text/plain": [
       "3"
      ]
     },
     "execution_count": 29,
     "metadata": {},
     "output_type": "execute_result"
    }
   ],
   "source": [
    "t[2]"
   ]
  },
  {
   "cell_type": "code",
   "execution_count": 30,
   "id": "3624ee23-b628-4770-96db-a405e4785fdd",
   "metadata": {},
   "outputs": [
    {
     "name": "stdout",
     "output_type": "stream",
     "text": [
      "saarthak\n",
      "24\n",
      "developer\n"
     ]
    }
   ],
   "source": [
    "person = ('saarthak', 24, \"developer\")\n",
    "name, age, profession = person\n",
    "print(name)\n",
    "print(age)\n",
    "print(profession)"
   ]
  },
  {
   "cell_type": "markdown",
   "id": "1e63dca1-2c35-4ab7-b1f5-ef674472e750",
   "metadata": {},
   "source": [
    "# Sets"
   ]
  },
  {
   "cell_type": "code",
   "execution_count": 35,
   "id": "f5f23da9-dd43-4fe0-a2b2-6f23a0be5336",
   "metadata": {},
   "outputs": [
    {
     "name": "stdout",
     "output_type": "stream",
     "text": [
      "{1, 2, 3, 4, 5, 6, 12}\n"
     ]
    }
   ],
   "source": [
    "s = { 1, 2,3,4, 5, 12, 6}\n",
    "print(s)"
   ]
  },
  {
   "cell_type": "code",
   "execution_count": 33,
   "id": "bc87fa58-a1bc-4165-8d6f-efcfd8387d25",
   "metadata": {},
   "outputs": [
    {
     "data": {
      "text/plain": [
       "set"
      ]
     },
     "execution_count": 33,
     "metadata": {},
     "output_type": "execute_result"
    }
   ],
   "source": [
    "type(s)"
   ]
  },
  {
   "cell_type": "code",
   "execution_count": 36,
   "id": "0b3eb410-5675-4654-a41a-fb8a126a7930",
   "metadata": {},
   "outputs": [
    {
     "ename": "KeyError",
     "evalue": "13",
     "output_type": "error",
     "traceback": [
      "\u001b[1;31m---------------------------------------------------------------------------\u001b[0m",
      "\u001b[1;31mKeyError\u001b[0m                                  Traceback (most recent call last)",
      "Cell \u001b[1;32mIn[36], line 1\u001b[0m\n\u001b[1;32m----> 1\u001b[0m s\u001b[38;5;241m.\u001b[39mremove(\u001b[38;5;241m13\u001b[39m)\n",
      "\u001b[1;31mKeyError\u001b[0m: 13"
     ]
    }
   ],
   "source": [
    "s.remove(13)"
   ]
  },
  {
   "cell_type": "code",
   "execution_count": 37,
   "id": "beb737f6-43b9-4339-be00-86d7eff37f6b",
   "metadata": {},
   "outputs": [],
   "source": [
    "s.discard(13)"
   ]
  },
  {
   "cell_type": "code",
   "execution_count": 38,
   "id": "3fc2f0ff-d1f0-48d9-8527-a69e775dfc82",
   "metadata": {},
   "outputs": [
    {
     "data": {
      "text/plain": [
       "{1, 2, 3, 4, 5, 6, 12}"
      ]
     },
     "execution_count": 38,
     "metadata": {},
     "output_type": "execute_result"
    }
   ],
   "source": [
    "s\n"
   ]
  },
  {
   "cell_type": "code",
   "execution_count": 39,
   "id": "deb2e78f-93d9-4b3f-a2c4-1a9177959232",
   "metadata": {},
   "outputs": [
    {
     "data": {
      "text/plain": [
       "1"
      ]
     },
     "execution_count": 39,
     "metadata": {},
     "output_type": "execute_result"
    }
   ],
   "source": [
    "s.pop()"
   ]
  },
  {
   "cell_type": "code",
   "execution_count": 40,
   "id": "96031908-d6d5-4ee0-b3a2-764579af49cc",
   "metadata": {},
   "outputs": [
    {
     "data": {
      "text/plain": [
       "{2, 3, 4, 5, 6, 12}"
      ]
     },
     "execution_count": 40,
     "metadata": {},
     "output_type": "execute_result"
    }
   ],
   "source": [
    "s\n"
   ]
  },
  {
   "cell_type": "code",
   "execution_count": 41,
   "id": "ca9b0939-a62d-4a3a-aa3b-c70493dce547",
   "metadata": {},
   "outputs": [],
   "source": [
    "s1 = { 1, 2, 3, 4}\n",
    "s2 = { 3, 4, 5, 6}"
   ]
  },
  {
   "cell_type": "code",
   "execution_count": 42,
   "id": "5b081c25-7169-4a67-b0dd-799fe29a8df9",
   "metadata": {},
   "outputs": [
    {
     "data": {
      "text/plain": [
       "{1, 2, 3, 4, 5, 6}"
      ]
     },
     "execution_count": 42,
     "metadata": {},
     "output_type": "execute_result"
    }
   ],
   "source": [
    "s1.union(s2)"
   ]
  },
  {
   "cell_type": "code",
   "execution_count": 43,
   "id": "4659d473-fc1c-4ac4-8d81-e822807243f4",
   "metadata": {},
   "outputs": [
    {
     "data": {
      "text/plain": [
       "{1, 2, 3, 4}"
      ]
     },
     "execution_count": 43,
     "metadata": {},
     "output_type": "execute_result"
    }
   ],
   "source": [
    "s1\n"
   ]
  },
  {
   "cell_type": "code",
   "execution_count": 44,
   "id": "aa4a75af-fb4d-458e-8868-1f7f5fa91275",
   "metadata": {},
   "outputs": [
    {
     "data": {
      "text/plain": [
       "{3, 4}"
      ]
     },
     "execution_count": 44,
     "metadata": {},
     "output_type": "execute_result"
    }
   ],
   "source": [
    "s1.intersection(s2)"
   ]
  },
  {
   "cell_type": "markdown",
   "id": "8aeb4fb6-1e82-4b49-94d1-c4883a0e503a",
   "metadata": {},
   "source": [
    "# Dictionary"
   ]
  },
  {
   "cell_type": "code",
   "execution_count": 45,
   "id": "a18da934-8412-482c-acc3-6b154fbbecdb",
   "metadata": {},
   "outputs": [
    {
     "name": "stdout",
     "output_type": "stream",
     "text": [
      "{'name': 'Saarthak', 'age': 23, 'profession': 'developer'}\n"
     ]
    }
   ],
   "source": [
    "student = {\n",
    "    \"name\": \"Saarthak\",\n",
    "    \"age\": 23,\n",
    "    \"profession\": \"developer\"\n",
    "}\n",
    "print(student)"
   ]
  },
  {
   "cell_type": "code",
   "execution_count": 46,
   "id": "ecca7672-2d53-4a5a-9edb-9d498288b700",
   "metadata": {},
   "outputs": [
    {
     "data": {
      "text/plain": [
       "23"
      ]
     },
     "execution_count": 46,
     "metadata": {},
     "output_type": "execute_result"
    }
   ],
   "source": [
    "student[\"age\"]"
   ]
  },
  {
   "cell_type": "code",
   "execution_count": 47,
   "id": "dc35ab33-c180-4d5d-919f-6d9b415f81c1",
   "metadata": {},
   "outputs": [
    {
     "ename": "KeyError",
     "evalue": "'lastname'",
     "output_type": "error",
     "traceback": [
      "\u001b[1;31m---------------------------------------------------------------------------\u001b[0m",
      "\u001b[1;31mKeyError\u001b[0m                                  Traceback (most recent call last)",
      "Cell \u001b[1;32mIn[47], line 1\u001b[0m\n\u001b[1;32m----> 1\u001b[0m student[\u001b[38;5;124m\"\u001b[39m\u001b[38;5;124mlastname\u001b[39m\u001b[38;5;124m\"\u001b[39m]\n",
      "\u001b[1;31mKeyError\u001b[0m: 'lastname'"
     ]
    }
   ],
   "source": [
    "student[\"lastname\"]"
   ]
  },
  {
   "cell_type": "code",
   "execution_count": 48,
   "id": "1eb58459-ffe4-46e2-95eb-a23ed470f48d",
   "metadata": {},
   "outputs": [],
   "source": [
    "student.get('lastname')"
   ]
  },
  {
   "cell_type": "code",
   "execution_count": 49,
   "id": "549b1404-a611-4271-89fa-b2823b433b11",
   "metadata": {},
   "outputs": [
    {
     "data": {
      "text/plain": [
       "dict_keys(['name', 'age', 'profession'])"
      ]
     },
     "execution_count": 49,
     "metadata": {},
     "output_type": "execute_result"
    }
   ],
   "source": [
    "student.keys()"
   ]
  },
  {
   "cell_type": "code",
   "execution_count": 50,
   "id": "1232699b-983c-47f3-bfde-da497661df07",
   "metadata": {},
   "outputs": [
    {
     "data": {
      "text/plain": [
       "dict_values(['Saarthak', 23, 'developer'])"
      ]
     },
     "execution_count": 50,
     "metadata": {},
     "output_type": "execute_result"
    }
   ],
   "source": [
    "student.values()"
   ]
  },
  {
   "cell_type": "code",
   "execution_count": 51,
   "id": "68d525a1-3df4-43ab-a13c-0eceed0d524a",
   "metadata": {},
   "outputs": [
    {
     "data": {
      "text/plain": [
       "dict_items([('name', 'Saarthak'), ('age', 23), ('profession', 'developer')])"
      ]
     },
     "execution_count": 51,
     "metadata": {},
     "output_type": "execute_result"
    }
   ],
   "source": [
    "student.items()"
   ]
  },
  {
   "cell_type": "code",
   "execution_count": 53,
   "id": "b10ea23c-890b-47d4-b6d7-42ccd39e6e76",
   "metadata": {},
   "outputs": [
    {
     "data": {
      "text/plain": [
       "'graduate'"
      ]
     },
     "execution_count": 53,
     "metadata": {},
     "output_type": "execute_result"
    }
   ],
   "source": [
    "student.get('class', \"graduate\")"
   ]
  },
  {
   "cell_type": "markdown",
   "id": "a92f9422-d87d-471c-91ff-63d4234a3876",
   "metadata": {},
   "source": [
    "# File handling"
   ]
  },
  {
   "cell_type": "code",
   "execution_count": 55,
   "id": "d2d9ec0b-b4c0-43bf-9308-e865b951f46d",
   "metadata": {},
   "outputs": [],
   "source": [
    "f = open('text.txt', 'r')"
   ]
  },
  {
   "cell_type": "code",
   "execution_count": 59,
   "id": "a363c263-757d-49c8-b8fc-5af1c79c7d51",
   "metadata": {},
   "outputs": [
    {
     "data": {
      "text/plain": [
       "''"
      ]
     },
     "execution_count": 59,
     "metadata": {},
     "output_type": "execute_result"
    }
   ],
   "source": [
    "f.read()"
   ]
  },
  {
   "cell_type": "code",
   "execution_count": 60,
   "id": "c715d758-a09f-40c5-a991-aa09093c9666",
   "metadata": {},
   "outputs": [],
   "source": [
    "f.close()"
   ]
  },
  {
   "cell_type": "code",
   "execution_count": 61,
   "id": "6773c310-9cda-4e2f-a5d8-4d288bfc6339",
   "metadata": {},
   "outputs": [],
   "source": [
    "f = open('new.txt', 'w')"
   ]
  },
  {
   "cell_type": "code",
   "execution_count": 62,
   "id": "a460d57f-e452-47eb-b69e-e5afe5c14c0d",
   "metadata": {},
   "outputs": [
    {
     "data": {
      "text/plain": [
       "18"
      ]
     },
     "execution_count": 62,
     "metadata": {},
     "output_type": "execute_result"
    }
   ],
   "source": [
    "f.write(\"This is a new file\")"
   ]
  },
  {
   "cell_type": "code",
   "execution_count": 63,
   "id": "b215bf8a-3654-4f55-ac7a-ace39b340c9c",
   "metadata": {},
   "outputs": [],
   "source": [
    "f.close()"
   ]
  },
  {
   "cell_type": "code",
   "execution_count": null,
   "id": "6566a8fd-d2ce-4376-b86d-dedc15359c2f",
   "metadata": {},
   "outputs": [],
   "source": []
  }
 ],
 "metadata": {
  "kernelspec": {
   "display_name": "Python [conda env:base] *",
   "language": "python",
   "name": "conda-base-py"
  },
  "language_info": {
   "codemirror_mode": {
    "name": "ipython",
    "version": 3
   },
   "file_extension": ".py",
   "mimetype": "text/x-python",
   "name": "python",
   "nbconvert_exporter": "python",
   "pygments_lexer": "ipython3",
   "version": "3.13.5"
  }
 },
 "nbformat": 4,
 "nbformat_minor": 5
}
