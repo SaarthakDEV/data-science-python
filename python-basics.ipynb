{
 "cells": [
  {
   "cell_type": "code",
   "execution_count": 2,
   "id": "e60e9d89-8307-4a62-9ba8-a1fc52bea2b1",
   "metadata": {},
   "outputs": [],
   "source": [
    "a = 5\n",
    "b = 32\n"
   ]
  },
  {
   "cell_type": "code",
   "execution_count": 3,
   "id": "1990bb78-f324-4d46-9394-ae8b71247850",
   "metadata": {},
   "outputs": [
    {
     "data": {
      "text/plain": [
       "37"
      ]
     },
     "execution_count": 3,
     "metadata": {},
     "output_type": "execute_result"
    }
   ],
   "source": [
    "a + b"
   ]
  },
  {
   "cell_type": "code",
   "execution_count": 4,
   "id": "239db822-e455-4bb2-a015-bacce4509c9c",
   "metadata": {},
   "outputs": [],
   "source": [
    "name = \"saarthak\""
   ]
  },
  {
   "cell_type": "code",
   "execution_count": 5,
   "id": "ebb4804a-1657-4812-bdd4-a2f6c31d6dd4",
   "metadata": {},
   "outputs": [
    {
     "name": "stdout",
     "output_type": "stream",
     "text": [
      "hello world\n"
     ]
    }
   ],
   "source": [
    "print(\"hello world\")"
   ]
  },
  {
   "cell_type": "code",
   "execution_count": 6,
   "id": "5dbddac6-8d9b-49a2-a0d4-78e08824e9ca",
   "metadata": {},
   "outputs": [],
   "source": [
    "#Hello this is comment"
   ]
  },
  {
   "cell_type": "code",
   "execution_count": 7,
   "id": "7b227882-d770-4098-8cc2-6a57e1e93b33",
   "metadata": {},
   "outputs": [
    {
     "name": "stdout",
     "output_type": "stream",
     "text": [
      "<class 'int'>\n"
     ]
    }
   ],
   "source": [
    "print(type(a))"
   ]
  },
  {
   "cell_type": "code",
   "execution_count": 8,
   "id": "757240d0-5d4d-4d8e-9da6-c16a5a9439f6",
   "metadata": {},
   "outputs": [
    {
     "data": {
      "text/plain": [
       "'saarthak'"
      ]
     },
     "execution_count": 8,
     "metadata": {},
     "output_type": "execute_result"
    }
   ],
   "source": [
    "name"
   ]
  },
  {
   "cell_type": "code",
   "execution_count": 9,
   "id": "1bef132a-3921-41ed-a87a-ca44a9c61d4b",
   "metadata": {},
   "outputs": [
    {
     "data": {
      "text/plain": [
       "'SAARTHAK'"
      ]
     },
     "execution_count": 9,
     "metadata": {},
     "output_type": "execute_result"
    }
   ],
   "source": [
    "name.upper()"
   ]
  },
  {
   "cell_type": "code",
   "execution_count": 10,
   "id": "dc1e14d3-11d7-44ad-9b7a-08503f5b941d",
   "metadata": {},
   "outputs": [
    {
     "data": {
      "text/plain": [
       "True"
      ]
     },
     "execution_count": 10,
     "metadata": {},
     "output_type": "execute_result"
    }
   ],
   "source": [
    "name.endswith('ak')"
   ]
  },
  {
   "cell_type": "code",
   "execution_count": 11,
   "id": "9a654253-0dc8-44df-9631-61989b23309a",
   "metadata": {},
   "outputs": [
    {
     "data": {
      "text/plain": [
       "False"
      ]
     },
     "execution_count": 11,
     "metadata": {},
     "output_type": "execute_result"
    }
   ],
   "source": [
    "name.endswith('er')"
   ]
  },
  {
   "cell_type": "code",
   "execution_count": 12,
   "id": "af0c2bc5-0abd-495b-92ac-d9c45aa39090",
   "metadata": {},
   "outputs": [
    {
     "data": {
      "text/plain": [
       "'saarthak'"
      ]
     },
     "execution_count": 12,
     "metadata": {},
     "output_type": "execute_result"
    }
   ],
   "source": [
    "name.lower()"
   ]
  },
  {
   "cell_type": "code",
   "execution_count": 14,
   "id": "833cdaec-b7a1-40de-ad3c-f459546b886b",
   "metadata": {},
   "outputs": [
    {
     "data": {
      "text/plain": [
       "3"
      ]
     },
     "execution_count": 14,
     "metadata": {},
     "output_type": "execute_result"
    }
   ],
   "source": [
    "name.count('a')"
   ]
  },
  {
   "cell_type": "code",
   "execution_count": 20,
   "id": "2b525209-378d-46d3-b539-0f5b126c0e33",
   "metadata": {},
   "outputs": [],
   "source": [
    "a = 11"
   ]
  },
  {
   "cell_type": "code",
   "execution_count": 21,
   "id": "efdd356c-05ef-4849-8392-bd40f8f104a1",
   "metadata": {},
   "outputs": [],
   "source": [
    "b = 5"
   ]
  },
  {
   "cell_type": "code",
   "execution_count": 22,
   "id": "319b1827-21aa-41e7-8f6f-4383e8835f5e",
   "metadata": {},
   "outputs": [
    {
     "data": {
      "text/plain": [
       "16"
      ]
     },
     "execution_count": 22,
     "metadata": {},
     "output_type": "execute_result"
    }
   ],
   "source": [
    "a + b"
   ]
  },
  {
   "cell_type": "code",
   "execution_count": 23,
   "id": "a51859de-05c5-44ba-8459-a4e5857ed2bc",
   "metadata": {},
   "outputs": [
    {
     "data": {
      "text/plain": [
       "2.2"
      ]
     },
     "execution_count": 23,
     "metadata": {},
     "output_type": "execute_result"
    }
   ],
   "source": [
    "a-b\n",
    "a*b\n",
    "a/b"
   ]
  },
  {
   "cell_type": "code",
   "execution_count": 24,
   "id": "d8b56543-0ea2-4eb9-9763-c47ac1243af5",
   "metadata": {},
   "outputs": [
    {
     "data": {
      "text/plain": [
       "2"
      ]
     },
     "execution_count": 24,
     "metadata": {},
     "output_type": "execute_result"
    }
   ],
   "source": [
    "a//b"
   ]
  },
  {
   "cell_type": "code",
   "execution_count": 25,
   "id": "bc4537a4-b11c-4c94-877e-e0dfeca32e08",
   "metadata": {},
   "outputs": [
    {
     "data": {
      "text/plain": [
       "16"
      ]
     },
     "execution_count": 25,
     "metadata": {},
     "output_type": "execute_result"
    }
   ],
   "source": [
    "2**4"
   ]
  },
  {
   "cell_type": "code",
   "execution_count": 26,
   "id": "8e5323cd-f1b6-49a0-bd5b-582423af09f8",
   "metadata": {},
   "outputs": [
    {
     "data": {
      "text/plain": [
       "161051"
      ]
     },
     "execution_count": 26,
     "metadata": {},
     "output_type": "execute_result"
    }
   ],
   "source": [
    "a**b"
   ]
  },
  {
   "cell_type": "code",
   "execution_count": 27,
   "id": "ba303f88-a886-40d7-8216-1d0ba2e6349a",
   "metadata": {},
   "outputs": [
    {
     "data": {
      "text/plain": [
       "1"
      ]
     },
     "execution_count": 27,
     "metadata": {},
     "output_type": "execute_result"
    }
   ],
   "source": [
    "a%b"
   ]
  },
  {
   "cell_type": "code",
   "execution_count": 28,
   "id": "ae493779-67d6-4b9c-85ea-a0f9fee15115",
   "metadata": {},
   "outputs": [
    {
     "data": {
      "text/plain": [
       "False"
      ]
     },
     "execution_count": 28,
     "metadata": {},
     "output_type": "execute_result"
    }
   ],
   "source": [
    "a < b"
   ]
  },
  {
   "cell_type": "code",
   "execution_count": 29,
   "id": "1e0ad97d-a0ce-4fce-8a88-76f1b37c414a",
   "metadata": {},
   "outputs": [
    {
     "data": {
      "text/plain": [
       "True"
      ]
     },
     "execution_count": 29,
     "metadata": {},
     "output_type": "execute_result"
    }
   ],
   "source": [
    "a > b"
   ]
  },
  {
   "cell_type": "code",
   "execution_count": 30,
   "id": "da48f4e9-fccb-4cff-94cd-23bb31968230",
   "metadata": {},
   "outputs": [
    {
     "data": {
      "text/plain": [
       "True"
      ]
     },
     "execution_count": 30,
     "metadata": {},
     "output_type": "execute_result"
    }
   ],
   "source": [
    "a >= b"
   ]
  },
  {
   "cell_type": "code",
   "execution_count": 31,
   "id": "9da45597-93c4-43b9-9ec5-df0df6d8d2a6",
   "metadata": {},
   "outputs": [
    {
     "data": {
      "text/plain": [
       "True"
      ]
     },
     "execution_count": 31,
     "metadata": {},
     "output_type": "execute_result"
    }
   ],
   "source": [
    "a != b"
   ]
  },
  {
   "cell_type": "markdown",
   "id": "c0c9e54f-85b1-447f-954f-5b381044711b",
   "metadata": {},
   "source": [
    "### Taking input from users"
   ]
  },
  {
   "cell_type": "code",
   "execution_count": 32,
   "id": "895070ea-ac9f-4f13-a128-0757be573597",
   "metadata": {},
   "outputs": [
    {
     "name": "stdin",
     "output_type": "stream",
     "text": [
      "enter a number 12\n"
     ]
    }
   ],
   "source": [
    "a = input(\"enter a number\")"
   ]
  },
  {
   "cell_type": "code",
   "execution_count": 33,
   "id": "539ccbba-cd41-4a13-9404-60c1fe498668",
   "metadata": {},
   "outputs": [
    {
     "data": {
      "text/plain": [
       "'12'"
      ]
     },
     "execution_count": 33,
     "metadata": {},
     "output_type": "execute_result"
    }
   ],
   "source": [
    "a"
   ]
  },
  {
   "cell_type": "code",
   "execution_count": 34,
   "id": "8eb0bf9a-46c0-442a-badf-79077b02b8f4",
   "metadata": {},
   "outputs": [
    {
     "data": {
      "text/plain": [
       "str"
      ]
     },
     "execution_count": 34,
     "metadata": {},
     "output_type": "execute_result"
    }
   ],
   "source": [
    "type(a)"
   ]
  },
  {
   "cell_type": "code",
   "execution_count": 35,
   "id": "e7d46a39-d81a-4392-91b4-0e54cac9c7a0",
   "metadata": {},
   "outputs": [
    {
     "data": {
      "text/plain": [
       "12"
      ]
     },
     "execution_count": 35,
     "metadata": {},
     "output_type": "execute_result"
    }
   ],
   "source": [
    "int(a)"
   ]
  },
  {
   "cell_type": "code",
   "execution_count": 36,
   "id": "fb756889-9839-41ae-8384-74969063394f",
   "metadata": {},
   "outputs": [
    {
     "data": {
      "text/plain": [
       "16"
      ]
     },
     "execution_count": 36,
     "metadata": {},
     "output_type": "execute_result"
    }
   ],
   "source": [
    "10 + 2 * 3"
   ]
  },
  {
   "cell_type": "code",
   "execution_count": 37,
   "id": "a03eba28-a799-4253-8075-4e7d2e1cef3f",
   "metadata": {},
   "outputs": [
    {
     "data": {
      "text/plain": [
       "36"
      ]
     },
     "execution_count": 37,
     "metadata": {},
     "output_type": "execute_result"
    }
   ],
   "source": [
    "(10+2)*3"
   ]
  },
  {
   "cell_type": "code",
   "execution_count": 38,
   "id": "0c2bd870-bdf4-476f-910a-5e48dbd53e57",
   "metadata": {},
   "outputs": [
    {
     "data": {
      "text/plain": [
       "512"
      ]
     },
     "execution_count": 38,
     "metadata": {},
     "output_type": "execute_result"
    }
   ],
   "source": [
    "2 ** 3 ** 2"
   ]
  },
  {
   "cell_type": "code",
   "execution_count": 39,
   "id": "415fdf8a-1345-446d-bb9e-418e210698d0",
   "metadata": {},
   "outputs": [],
   "source": [
    "# Right to left"
   ]
  },
  {
   "cell_type": "code",
   "execution_count": null,
   "id": "a5e6ddb5-055f-4b0d-9478-1f52e0a6dcd2",
   "metadata": {},
   "outputs": [],
   "source": []
  },
  {
   "cell_type": "code",
   "execution_count": null,
   "id": "357c538e-a9a4-4132-a952-800ff2d5ad6d",
   "metadata": {},
   "outputs": [],
   "source": []
  },
  {
   "cell_type": "code",
   "execution_count": null,
   "id": "19db3a59-312c-4c7c-a813-dc800a3105f4",
   "metadata": {},
   "outputs": [],
   "source": []
  },
  {
   "cell_type": "code",
   "execution_count": 40,
   "id": "ea95743d-c823-42bb-b949-e30f5c84226b",
   "metadata": {},
   "outputs": [
    {
     "name": "stdout",
     "output_type": "stream",
     "text": [
      "smaller\n"
     ]
    }
   ],
   "source": [
    "a = 4\n",
    "if(a > 54):\n",
    "    print(\"larger\")\n",
    "else:\n",
    "    print(\"smaller\")"
   ]
  },
  {
   "cell_type": "code",
   "execution_count": 50,
   "id": "f7dd38e3-da6c-4f31-8d3f-dfcce3a22e3e",
   "metadata": {},
   "outputs": [],
   "source": [
    "def avg(a, b = 0, c = 2):\n",
    "    d = (a + b+ c) / 3\n",
    "    print(d)"
   ]
  },
  {
   "cell_type": "code",
   "execution_count": 51,
   "id": "b152f901-0f68-4699-8f9f-6e68bc2e5ae2",
   "metadata": {},
   "outputs": [
    {
     "name": "stdout",
     "output_type": "stream",
     "text": [
      "3.0\n"
     ]
    }
   ],
   "source": [
    "avg(3,3,3)"
   ]
  },
  {
   "cell_type": "code",
   "execution_count": 52,
   "id": "52e823ff-cfeb-4210-9aba-bbdc2bfcdea4",
   "metadata": {},
   "outputs": [],
   "source": [
    "d = 33"
   ]
  },
  {
   "cell_type": "code",
   "execution_count": 53,
   "id": "e99cdb13-164f-42e3-a53d-b0933a55f6c4",
   "metadata": {},
   "outputs": [
    {
     "data": {
      "text/plain": [
       "function"
      ]
     },
     "execution_count": 53,
     "metadata": {},
     "output_type": "execute_result"
    }
   ],
   "source": [
    "type(avg)"
   ]
  },
  {
   "cell_type": "code",
   "execution_count": 75,
   "id": "d9179b12-cb3d-46c0-baea-f1fd3317cfb7",
   "metadata": {},
   "outputs": [
    {
     "name": "stdout",
     "output_type": "stream",
     "text": [
      "Hello world, My name is saarthak and i am 23 years old\n"
     ]
    }
   ],
   "source": [
    "print(\"Hello world, My name is {} and i am {} years old\".format(\"saarthak\",23))"
   ]
  },
  {
   "cell_type": "code",
   "execution_count": 63,
   "id": "96da8eb0-f4cf-4df7-a665-cf4e5933140e",
   "metadata": {},
   "outputs": [
    {
     "name": "stdout",
     "output_type": "stream",
     "text": [
      "Hello world, My name is saarthak and i am 3.14 years old\n"
     ]
    }
   ],
   "source": [
    "name = \"saarthak\"\n",
    "age=23\n",
    "pi = 3.142753453\n",
    "print(f\"Hello world, My name is {name} and i am {pi:.2f} years old\")"
   ]
  },
  {
   "cell_type": "code",
   "execution_count": 74,
   "id": "0877fd0a-e050-4919-a9ef-d2267fe1152d",
   "metadata": {},
   "outputs": [
    {
     "name": "stdout",
     "output_type": "stream",
     "text": [
      "3.14\n"
     ]
    }
   ],
   "source": [
    "pi = 3.142753453\n",
    "print(f\"{pi:.2f}\")"
   ]
  },
  {
   "cell_type": "code",
   "execution_count": 68,
   "id": "531fd4a2-0c41-4196-a001-7fd2bca8a3b2",
   "metadata": {},
   "outputs": [
    {
     "name": "stdout",
     "output_type": "stream",
     "text": [
      "python    \n",
      "    python\n",
      "  python  \n"
     ]
    }
   ],
   "source": [
    "print(f\"{'python':<10}\")\n",
    "print(f\"{'python':>10}\")\n",
    "print(f\"{'python':^10}\")"
   ]
  },
  {
   "cell_type": "code",
   "execution_count": 69,
   "id": "7cf5b486-6e20-4c93-a58d-e6a19669e9b7",
   "metadata": {},
   "outputs": [
    {
     "name": "stdout",
     "output_type": "stream",
     "text": [
      "1\n",
      "2\n",
      "43\n",
      "54\n",
      "12\n"
     ]
    }
   ],
   "source": [
    "list = [1,2,43,54,12]\n",
    "for i in list:\n",
    "    print(i)"
   ]
  },
  {
   "cell_type": "code",
   "execution_count": 71,
   "id": "5cc081c5-02ac-4556-a609-ecc79cdcd608",
   "metadata": {},
   "outputs": [
    {
     "name": "stdout",
     "output_type": "stream",
     "text": [
      "2\n",
      "4\n",
      "6\n",
      "8\n",
      "10\n",
      "12\n",
      "14\n",
      "16\n",
      "18\n",
      "20\n"
     ]
    }
   ],
   "source": [
    "for i in range(2, 21):\n",
    "    if(i %2 == 0):\n",
    "        print(i)\n",
    "    else:\n",
    "        continue"
   ]
  },
  {
   "cell_type": "code",
   "execution_count": 76,
   "id": "78aa8bc0-3646-4b80-b1e0-81341c34de08",
   "metadata": {},
   "outputs": [
    {
     "name": "stdout",
     "output_type": "stream",
     "text": [
      "Hello world\n"
     ]
    }
   ],
   "source": [
    "for items in range(5):\n",
    "    pass\n",
    "print(\"Hello world\")"
   ]
  },
  {
   "cell_type": "markdown",
   "id": "bd1dec48-0787-4ec9-b99b-6ba6744e6ee0",
   "metadata": {},
   "source": [
    "## List"
   ]
  },
  {
   "cell_type": "code",
   "execution_count": 1,
   "id": "ffd99caa-d785-44b3-a6ef-f1eaebb3313b",
   "metadata": {},
   "outputs": [],
   "source": [
    "fruits = ['banana', 'mango', 'cherry']"
   ]
  },
  {
   "cell_type": "code",
   "execution_count": 2,
   "id": "44ea6626-3c30-4908-b959-da5d9062766c",
   "metadata": {},
   "outputs": [
    {
     "data": {
      "text/plain": [
       "['banana', 'mango', 'cherry']"
      ]
     },
     "execution_count": 2,
     "metadata": {},
     "output_type": "execute_result"
    }
   ],
   "source": [
    "fruits"
   ]
  },
  {
   "cell_type": "code",
   "execution_count": 3,
   "id": "02e64061-5497-4943-a68a-7b25915c66f1",
   "metadata": {},
   "outputs": [],
   "source": [
    "fruits.append('orange')"
   ]
  },
  {
   "cell_type": "code",
   "execution_count": 4,
   "id": "b80dcb79-9eb7-4b3f-a67f-db964f6e8368",
   "metadata": {},
   "outputs": [
    {
     "data": {
      "text/plain": [
       "['banana', 'mango', 'cherry', 'orange']"
      ]
     },
     "execution_count": 4,
     "metadata": {},
     "output_type": "execute_result"
    }
   ],
   "source": [
    "fruits"
   ]
  },
  {
   "cell_type": "code",
   "execution_count": 5,
   "id": "191cdb71-b0c4-4efc-a459-3ecdbbc24d3a",
   "metadata": {},
   "outputs": [],
   "source": [
    "fruits.sort()"
   ]
  },
  {
   "cell_type": "code",
   "execution_count": 6,
   "id": "242e4534-8511-497e-9013-e63ccc404889",
   "metadata": {},
   "outputs": [
    {
     "data": {
      "text/plain": [
       "['banana', 'cherry', 'mango', 'orange']"
      ]
     },
     "execution_count": 6,
     "metadata": {},
     "output_type": "execute_result"
    }
   ],
   "source": [
    "fruits"
   ]
  },
  {
   "cell_type": "code",
   "execution_count": 7,
   "id": "b0714d13-1377-4456-a8a1-949c7b746538",
   "metadata": {},
   "outputs": [
    {
     "ename": "AttributeError",
     "evalue": "'list' object has no attribute 'push'",
     "output_type": "error",
     "traceback": [
      "\u001b[1;31m---------------------------------------------------------------------------\u001b[0m",
      "\u001b[1;31mAttributeError\u001b[0m                            Traceback (most recent call last)",
      "Cell \u001b[1;32mIn[7], line 1\u001b[0m\n\u001b[1;32m----> 1\u001b[0m fruits\u001b[38;5;241m.\u001b[39mpush(\u001b[38;5;124m'\u001b[39m\u001b[38;5;124mapple\u001b[39m\u001b[38;5;124m'\u001b[39m)\n",
      "\u001b[1;31mAttributeError\u001b[0m: 'list' object has no attribute 'push'"
     ]
    }
   ],
   "source": [
    "fruits.push('apple')"
   ]
  },
  {
   "cell_type": "code",
   "execution_count": 8,
   "id": "eecdda8f-1411-4a33-963f-1913c7a51bf0",
   "metadata": {},
   "outputs": [
    {
     "data": {
      "text/plain": [
       "['banana', 'cherry', 'mango', 'orange']"
      ]
     },
     "execution_count": 8,
     "metadata": {},
     "output_type": "execute_result"
    }
   ],
   "source": [
    "fruits"
   ]
  },
  {
   "cell_type": "code",
   "execution_count": 9,
   "id": "33e35ccf-12d9-4896-9977-a4f7bcce0a37",
   "metadata": {},
   "outputs": [
    {
     "data": {
      "text/plain": [
       "'banana'"
      ]
     },
     "execution_count": 9,
     "metadata": {},
     "output_type": "execute_result"
    }
   ],
   "source": [
    "fruits[0]"
   ]
  },
  {
   "cell_type": "code",
   "execution_count": 10,
   "id": "1eeb4cfe-0686-44a3-8464-ff68e6441752",
   "metadata": {},
   "outputs": [],
   "source": [
    "fruits[2] = 'grapes'"
   ]
  },
  {
   "cell_type": "code",
   "execution_count": 11,
   "id": "8662ed12-8957-4933-96e8-b399ac06c585",
   "metadata": {},
   "outputs": [
    {
     "data": {
      "text/plain": [
       "['banana', 'cherry', 'grapes', 'orange']"
      ]
     },
     "execution_count": 11,
     "metadata": {},
     "output_type": "execute_result"
    }
   ],
   "source": [
    "fruits"
   ]
  },
  {
   "cell_type": "code",
   "execution_count": 12,
   "id": "0df78a89-54ab-4828-b7c4-6c930ea045eb",
   "metadata": {},
   "outputs": [],
   "source": [
    "l = [1,2,3,4]\n",
    "fruits.extend(l)"
   ]
  },
  {
   "cell_type": "code",
   "execution_count": 13,
   "id": "0fa40ba7-7b7a-47c5-90ce-371f2ce7fc1e",
   "metadata": {},
   "outputs": [
    {
     "data": {
      "text/plain": [
       "['banana', 'cherry', 'grapes', 'orange', 1, 2, 3, 4]"
      ]
     },
     "execution_count": 13,
     "metadata": {},
     "output_type": "execute_result"
    }
   ],
   "source": [
    "fruits"
   ]
  },
  {
   "cell_type": "code",
   "execution_count": null,
   "id": "3ec173f4-e4fa-4671-9ca7-2447237a92d0",
   "metadata": {},
   "outputs": [],
   "source": []
  }
 ],
 "metadata": {
  "kernelspec": {
   "display_name": "Python [conda env:base] *",
   "language": "python",
   "name": "conda-base-py"
  },
  "language_info": {
   "codemirror_mode": {
    "name": "ipython",
    "version": 3
   },
   "file_extension": ".py",
   "mimetype": "text/x-python",
   "name": "python",
   "nbconvert_exporter": "python",
   "pygments_lexer": "ipython3",
   "version": "3.13.5"
  }
 },
 "nbformat": 4,
 "nbformat_minor": 5
}
