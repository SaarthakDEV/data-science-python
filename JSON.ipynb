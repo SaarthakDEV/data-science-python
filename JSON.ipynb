{
 "cells": [
  {
   "cell_type": "code",
   "execution_count": 1,
   "id": "88d69b2b-fe39-4317-8924-b01c4a742ef3",
   "metadata": {},
   "outputs": [],
   "source": [
    "import json\n",
    "\n",
    "\n",
    "data = { \"name\" : \"Saarthak\",\n",
    "        \"age\" : 23,\n",
    "        \"profession\" : \"developer\"\n",
    "       }"
   ]
  },
  {
   "cell_type": "code",
   "execution_count": 3,
   "id": "b93d3c56-dd6f-4099-b6cd-258a72b7d86d",
   "metadata": {},
   "outputs": [],
   "source": [
    "s = json.dumps(data)\n"
   ]
  },
  {
   "cell_type": "code",
   "execution_count": 4,
   "id": "e881d17b-7c8e-4dff-84f3-f15af43702de",
   "metadata": {},
   "outputs": [
    {
     "name": "stdout",
     "output_type": "stream",
     "text": [
      "{'name': 'Saarthak', 'age': 23, 'profession': 'developer'}\n"
     ]
    }
   ],
   "source": [
    "d = json.loads(s)\n",
    "print(d)"
   ]
  },
  {
   "cell_type": "code",
   "execution_count": 5,
   "id": "dd253920-64e5-4611-9745-ac9f6fc24f83",
   "metadata": {},
   "outputs": [],
   "source": [
    "file = open(\"data.json\", \"w\")\n",
    "json.dump({'name': 'Saarthak', 'age': 23, 'profession': 'developer'}, file)"
   ]
  },
  {
   "cell_type": "code",
   "execution_count": 6,
   "id": "cd78647d-94b7-4402-a034-14037645b4e0",
   "metadata": {},
   "outputs": [],
   "source": [
    "file.close()\n"
   ]
  },
  {
   "cell_type": "code",
   "execution_count": 7,
   "id": "41f1a5d7-6f65-4c79-8b31-4f37f09b79f3",
   "metadata": {},
   "outputs": [
    {
     "name": "stdout",
     "output_type": "stream",
     "text": [
      "{'name': 'Saarthak', 'age': 23, 'profession': 'developer'}\n"
     ]
    }
   ],
   "source": [
    "with open('data.json', 'r') as file:\n",
    "    print(json.load(file))"
   ]
  },
  {
   "cell_type": "code",
   "execution_count": null,
   "id": "2cf07986-ad8b-4aeb-9fb8-e8096933668b",
   "metadata": {},
   "outputs": [],
   "source": []
  }
 ],
 "metadata": {
  "kernelspec": {
   "display_name": "Python [conda env:base] *",
   "language": "python",
   "name": "conda-base-py"
  },
  "language_info": {
   "codemirror_mode": {
    "name": "ipython",
    "version": 3
   },
   "file_extension": ".py",
   "mimetype": "text/x-python",
   "name": "python",
   "nbconvert_exporter": "python",
   "pygments_lexer": "ipython3",
   "version": "3.13.5"
  }
 },
 "nbformat": 4,
 "nbformat_minor": 5
}
