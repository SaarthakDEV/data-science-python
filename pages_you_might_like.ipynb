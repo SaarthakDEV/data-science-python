{
 "cells": [
  {
   "cell_type": "code",
   "execution_count": 46,
   "id": "ff0e826a-bb8e-4367-9898-2d7ebb588fee",
   "metadata": {},
   "outputs": [],
   "source": [
    "def load_data():\n",
    "    with open(\"coders-of-delhi-data-2.json\", 'r') as file:\n",
    "        data = json.load(file)\n",
    "    # print(data)\n",
    "    user_id = 1\n",
    "    clean_data(data, user_id)\n",
    "\n",
    "def clean_data(data, user_id):\n",
    "    pages = {}\n",
    "    for user in data[\"users\"]:\n",
    "        pages[user[\"id\"]] = set(user[\"liked_pages\"])\n",
    "    print(pages)\n",
    "\n",
    "    if user_id not in pages:\n",
    "        return []\n",
    "\n",
    "    user_liked_pages = pages[user_id]\n",
    "    suggestions = {}\n",
    "    print(user_liked_pages)\n",
    "\n",
    "    for other_user , page in pages.items():\n",
    "        if other_user != user_id:\n",
    "            shared_pages = user_liked_pages.intersection(page)\n",
    "            for p in page:\n",
    "                if p not in user_liked_pages:\n",
    "                    suggestions[p] = suggestions.get(p, 0) + len(shared_pages)\n",
    "\n",
    "    sorted_pages = sorted(suggestions.items(), key = lambda x: x[1], reverse= True)\n",
    "    print(suggestions)\n",
    "\n",
    "    "
   ]
  },
  {
   "cell_type": "code",
   "execution_count": 47,
   "id": "134312a0-3d0a-468c-be3d-a4bb550003fa",
   "metadata": {},
   "outputs": [
    {
     "name": "stdout",
     "output_type": "stream",
     "text": [
      "{1: {101}, 2: {102}, 3: {101, 103}, 4: {104}, 5: set()}\n",
      "{101}\n",
      "{102: 0, 103: 1, 104: 0}\n"
     ]
    }
   ],
   "source": [
    "load_data()"
   ]
  },
  {
   "cell_type": "code",
   "execution_count": null,
   "id": "e3198def-1cf6-43dd-bbcb-cb711b531dc3",
   "metadata": {},
   "outputs": [],
   "source": []
  }
 ],
 "metadata": {
  "kernelspec": {
   "display_name": "Python [conda env:base] *",
   "language": "python",
   "name": "conda-base-py"
  },
  "language_info": {
   "codemirror_mode": {
    "name": "ipython",
    "version": 3
   },
   "file_extension": ".py",
   "mimetype": "text/x-python",
   "name": "python",
   "nbconvert_exporter": "python",
   "pygments_lexer": "ipython3",
   "version": "3.13.5"
  }
 },
 "nbformat": 4,
 "nbformat_minor": 5
}
