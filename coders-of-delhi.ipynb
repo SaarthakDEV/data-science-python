{
 "cells": [
  {
   "cell_type": "code",
   "execution_count": 1,
   "id": "0294f20a-1b9d-490c-8fc8-47eceb14b20c",
   "metadata": {},
   "outputs": [],
   "source": [
    "data = {\n",
    "    \"users\": [\n",
    "        {\n",
    "            \"id\": 1,\n",
    "            \"name\": \"Amit\",\n",
    "            \"friends\": [2,3],\n",
    "            \"liked_pages\": [101]\n",
    "        },\n",
    "        {\n",
    "            \"id\": 2,\n",
    "            \"name\": \"Priya\",\n",
    "            \"friends\": [1,4],\n",
    "            \"liked_pages\": [102]\n",
    "        },\n",
    "        {\n",
    "            \"id\": 3,\n",
    "            \"name\": \"Rahul\",\n",
    "            \"friends\": [1],\n",
    "            \"liked_pages\": [101, 103]\n",
    "        },\n",
    "        {\n",
    "            \"id\": 4,\n",
    "            \"name\": \"Sara\",\n",
    "            \"friends\": [2],\n",
    "            \"liked_pages\": [104]\n",
    "        }\n",
    "    ],\n",
    "    \"pages\": [\n",
    "        {\n",
    "            \"id\": 101,\n",
    "            \"name\" : \"Python developers\"\n",
    "         },\n",
    "        {\n",
    "            \"id\": 102,\n",
    "            \"name\" : \"Data science enthusiasts\"\n",
    "         },\n",
    "        {\n",
    "            \"id\": 103,\n",
    "            \"name\" : \"AI & ML community\"\n",
    "         },\n",
    "        {\n",
    "            \"id\": 104,\n",
    "            \"name\" : \"Web Dev hub\"\n",
    "         },\n",
    "    ]\n",
    "}"
   ]
  },
  {
   "cell_type": "code",
   "execution_count": 2,
   "id": "63141c64-ae01-49f6-81fd-e7bb53ee6865",
   "metadata": {},
   "outputs": [
    {
     "data": {
      "text/plain": [
       "{'users': [{'id': 1, 'name': 'Amit', 'friends': [2, 3], 'liked_pages': [101]},\n",
       "  {'id': 2, 'name': 'Priya', 'friends': [1, 4], 'liked_pages': [102]},\n",
       "  {'id': 3, 'name': 'Rahul', 'friends': [1], 'liked_pages': [101, 103]},\n",
       "  {'id': 4, 'name': 'Sara', 'friends': [2], 'liked_pages': [104]}],\n",
       " 'pages': [{'id': 101, 'name': 'Python developers'},\n",
       "  {'id': 102, 'name': 'Data science enthusiasts'},\n",
       "  {'id': 103, 'name': 'AI & ML community'},\n",
       "  {'id': 104, 'name': 'Web Dev hub'}]}"
      ]
     },
     "execution_count": 2,
     "metadata": {},
     "output_type": "execute_result"
    }
   ],
   "source": [
    "data"
   ]
  },
  {
   "cell_type": "code",
   "execution_count": 5,
   "id": "a0515807-39ef-4b24-abe4-591c97aab60f",
   "metadata": {},
   "outputs": [],
   "source": [
    "with open(\"coders-of-delhi-data-1.json\", 'w') as file:\n",
    "    json.dump(data, file)"
   ]
  },
  {
   "cell_type": "markdown",
   "id": "cd28113c-9327-45db-8187-622d1ce69324",
   "metadata": {},
   "source": [
    "# Load data"
   ]
  },
  {
   "cell_type": "code",
   "execution_count": 7,
   "id": "129b4c7f-4064-4484-9f56-5d853bde4d53",
   "metadata": {},
   "outputs": [],
   "source": [
    "import json\n",
    "\n",
    "\n",
    "def load_data():\n",
    "    with open(\"coders-of-delhi-data-1.json\", \"r\") as file:\n",
    "        data = json.load(file)\n",
    "    return data\n",
    "\n",
    "loaded_data = load_data()"
   ]
  },
  {
   "cell_type": "code",
   "execution_count": 8,
   "id": "4310844d-5d19-4ec9-abde-964d07a3b366",
   "metadata": {},
   "outputs": [
    {
     "data": {
      "text/plain": [
       "{'users': [{'id': 1, 'name': 'Amit', 'friends': [2, 3], 'liked_pages': [101]},\n",
       "  {'id': 2, 'name': 'Priya', 'friends': [1, 4], 'liked_pages': [102]},\n",
       "  {'id': 3, 'name': 'Rahul', 'friends': [1], 'liked_pages': [101, 103]},\n",
       "  {'id': 4, 'name': 'Sara', 'friends': [2], 'liked_pages': [104]}],\n",
       " 'pages': [{'id': 101, 'name': 'Python developers'},\n",
       "  {'id': 102, 'name': 'Data science enthusiasts'},\n",
       "  {'id': 103, 'name': 'AI & ML community'},\n",
       "  {'id': 104, 'name': 'Web Dev hub'}]}"
      ]
     },
     "execution_count": 8,
     "metadata": {},
     "output_type": "execute_result"
    }
   ],
   "source": [
    "loaded_data"
   ]
  },
  {
   "cell_type": "code",
   "execution_count": 9,
   "id": "b5b882e6-40d1-4f4a-80b9-75ce144b02fd",
   "metadata": {},
   "outputs": [
    {
     "data": {
      "text/plain": [
       "dict"
      ]
     },
     "execution_count": 9,
     "metadata": {},
     "output_type": "execute_result"
    }
   ],
   "source": [
    "type(loaded_data)"
   ]
  },
  {
   "cell_type": "code",
   "execution_count": null,
   "id": "966d4c8f-f01c-4f3d-9384-cead92792aae",
   "metadata": {},
   "outputs": [],
   "source": []
  },
  {
   "cell_type": "markdown",
   "id": "5d9cdbdd-e608-4ad4-8454-952e46b46b2d",
   "metadata": {},
   "source": [
    "# Fill the data"
   ]
  },
  {
   "cell_type": "code",
   "execution_count": 13,
   "id": "5774fe79-a01e-47cb-a989-cbf70ed7b1da",
   "metadata": {},
   "outputs": [],
   "source": [
    "def display_data(loaded_data):\n",
    "    print(\"users and their connections\\n\")\n",
    "    for users in loaded_data[\"users\"]:\n",
    "        print(f\"{users['name']} is friends with {users['friends']} and liked pages are {users['liked_pages']}\")\n",
    "    print(\"\\npages information\")\n",
    "    for pages in loaded_data[\"pages\"]:\n",
    "        print(f\"{pages['id']}: {pages['name']}\")"
   ]
  },
  {
   "cell_type": "code",
   "execution_count": 14,
   "id": "c83ffd51-f269-4390-923f-4231f23819f2",
   "metadata": {},
   "outputs": [
    {
     "name": "stdout",
     "output_type": "stream",
     "text": [
      "users and their connections\n",
      "\n",
      "Amit is friends with [2, 3] and liked pages are [101]\n",
      "Priya is friends with [1, 4] and liked pages are [102]\n",
      "Rahul is friends with [1] and liked pages are [101, 103]\n",
      "Sara is friends with [2] and liked pages are [104]\n",
      "\n",
      "pages information\n",
      "101: Python developers\n",
      "102: Data science enthusiasts\n",
      "103: AI & ML community\n",
      "104: Web Dev hub\n"
     ]
    }
   ],
   "source": [
    "display_data(loaded_data)"
   ]
  },
  {
   "cell_type": "code",
   "execution_count": null,
   "id": "17c00399-1b69-4467-b88d-eacd255b7661",
   "metadata": {},
   "outputs": [],
   "source": []
  },
  {
   "cell_type": "code",
   "execution_count": null,
   "id": "97be5320-e055-4d31-a57f-be49921038d0",
   "metadata": {},
   "outputs": [],
   "source": []
  },
  {
   "cell_type": "code",
   "execution_count": null,
   "id": "c301c179-fa6b-4592-b885-1376a18bf264",
   "metadata": {},
   "outputs": [],
   "source": []
  },
  {
   "cell_type": "markdown",
   "id": "6df640ac-57ce-4db2-9efa-394f3e054079",
   "metadata": {},
   "source": [
    "# Load data"
   ]
  },
  {
   "cell_type": "code",
   "execution_count": 45,
   "id": "d31c1a24-c832-475b-9aef-561223ec4523",
   "metadata": {},
   "outputs": [],
   "source": [
    "data = json.load(open(\"coders-of-delhi-data-2.json\" , \"r\")) "
   ]
  },
  {
   "cell_type": "code",
   "execution_count": 46,
   "id": "c9e931bf-07e5-43dc-a718-17d3ae8c221c",
   "metadata": {},
   "outputs": [
    {
     "data": {
      "text/plain": [
       "{'users': [{'id': 1, 'name': 'Amit', 'friends': [2, 3], 'liked_pages': [101]},\n",
       "  {'id': 2, 'name': 'Priya', 'friends': [1, 4], 'liked_pages': [102]},\n",
       "  {'id': 3, 'name': '', 'friends': [1], 'liked_pages': [101, 103]},\n",
       "  {'id': 4, 'name': 'Sara', 'friends': [2, 2], 'liked_pages': [104]},\n",
       "  {'id': 5, 'name': 'Amit', 'friends': [], 'liked_pages': []}],\n",
       " 'pages': [{'id': 101, 'name': 'Python Developers'},\n",
       "  {'id': 102, 'name': 'Data Science Enthusiasts'},\n",
       "  {'id': 103, 'name': 'AI & ML Community'},\n",
       "  {'id': 104, 'name': 'Web Dev Hub'},\n",
       "  {'id': 104, 'name': 'Web Development'}]}"
      ]
     },
     "execution_count": 46,
     "metadata": {},
     "output_type": "execute_result"
    }
   ],
   "source": [
    "data"
   ]
  },
  {
   "cell_type": "markdown",
   "id": "04b154c3-5bef-425d-8eca-d0ec998ed058",
   "metadata": {},
   "source": [
    "## Clean data"
   ]
  },
  {
   "cell_type": "code",
   "execution_count": 65,
   "id": "5ab46e0f-f0d1-4180-a335-d19385a9f9eb",
   "metadata": {},
   "outputs": [],
   "source": [
    "def clean_data(data):\n",
    "    # remove users with missing name\n",
    "    data[\"users\"] = [user for user in data[\"users\"] if user[\"name\"].strip()]\n",
    "\n",
    "    # remove duplicate friends\n",
    "    for user in data[\"users\"]:\n",
    "        user[\"friends\"] = list(set(user[\"friends\"]))\n",
    "\n",
    "    #remove inactive users\n",
    "    data[\"users\"] = [user for user in data[\"users\"] if len(user[\"friends\"]) or len(user[\"liked_pages\"])]\n",
    "\n",
    "    #remove duplicate pages\n",
    "    unique_pages = {}\n",
    "    for page in data[\"pages\"]:\n",
    "        unique_pages[page[\"id\"]] = page\n",
    "        \n",
    "    # new_page = []\n",
    "    # for obj in unique_pages:\n",
    "    #     new_page.append({ \"id\": obj, \"name\": unique_pages[obj] })\n",
    "    \n",
    "    data[\"pages\"] = list(unique_pages.values())\n",
    "\n",
    "\n",
    "    \n",
    "        \n",
    "    with open(\"cleaned_coders-of-delhi-data-2.json\", \"w\") as file:\n",
    "        json.dump(data, file)\n",
    "        "
   ]
  },
  {
   "cell_type": "code",
   "execution_count": 66,
   "id": "8f9f19eb-5c2f-48b7-983d-81a76bc9954d",
   "metadata": {},
   "outputs": [],
   "source": [
    "clean_data(data)"
   ]
  }
 ],
 "metadata": {
  "kernelspec": {
   "display_name": "Python [conda env:base] *",
   "language": "python",
   "name": "conda-base-py"
  },
  "language_info": {
   "codemirror_mode": {
    "name": "ipython",
    "version": 3
   },
   "file_extension": ".py",
   "mimetype": "text/x-python",
   "name": "python",
   "nbconvert_exporter": "python",
   "pygments_lexer": "ipython3",
   "version": "3.13.5"
  }
 },
 "nbformat": 4,
 "nbformat_minor": 5
}
