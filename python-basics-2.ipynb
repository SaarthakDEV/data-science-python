{
 "cells": [
  {
   "cell_type": "code",
   "execution_count": 1,
   "id": "efd196ed-762c-4dd3-9883-fa41d84b458d",
   "metadata": {},
   "outputs": [],
   "source": [
    "table = []"
   ]
  },
  {
   "cell_type": "code",
   "execution_count": 2,
   "id": "e4da945b-95bd-4cfa-a605-cad64536dbe3",
   "metadata": {},
   "outputs": [
    {
     "name": "stdout",
     "output_type": "stream",
     "text": [
      "[2, 4, 6, 8, 10, 12, 14, 16, 18, 20]\n"
     ]
    }
   ],
   "source": [
    "for i in range(1,11):\n",
    "    table.append(2*i)\n",
    "\n",
    "print(table)"
   ]
  },
  {
   "cell_type": "code",
   "execution_count": 4,
   "id": "8bc8a05f-5026-45ba-a3fc-7adea9a309f7",
   "metadata": {},
   "outputs": [],
   "source": [
    "t = [2*i for i in range(1,11)]"
   ]
  },
  {
   "cell_type": "code",
   "execution_count": 5,
   "id": "fd3b96db-b232-4ff7-875c-d9c19e11b552",
   "metadata": {},
   "outputs": [
    {
     "data": {
      "text/plain": [
       "[2, 4, 6, 8, 10, 12, 14, 16, 18, 20]"
      ]
     },
     "execution_count": 5,
     "metadata": {},
     "output_type": "execute_result"
    }
   ],
   "source": [
    "t"
   ]
  },
  {
   "cell_type": "code",
   "execution_count": 6,
   "id": "f301460b-0ae4-48fe-a0d3-da762a0cd23b",
   "metadata": {},
   "outputs": [],
   "source": [
    "t1 = [2*i for i in range(1,11) if i%2 == 0]"
   ]
  },
  {
   "cell_type": "code",
   "execution_count": 7,
   "id": "ae3db13d-7ae9-49bb-a39a-031192484bf8",
   "metadata": {},
   "outputs": [
    {
     "data": {
      "text/plain": [
       "[4, 8, 12, 16, 20]"
      ]
     },
     "execution_count": 7,
     "metadata": {},
     "output_type": "execute_result"
    }
   ],
   "source": [
    "t1"
   ]
  },
  {
   "cell_type": "code",
   "execution_count": 10,
   "id": "4bcff984-90f7-48a9-b459-5f70eb0e6a9c",
   "metadata": {},
   "outputs": [],
   "source": [
    "t2 = [\"Even\" if 5%2 == 0 else \"Odd\"]"
   ]
  },
  {
   "cell_type": "code",
   "execution_count": 11,
   "id": "9b5959fe-e78f-44cd-982c-1e77137bf045",
   "metadata": {},
   "outputs": [
    {
     "data": {
      "text/plain": [
       "['Odd']"
      ]
     },
     "execution_count": 11,
     "metadata": {},
     "output_type": "execute_result"
    }
   ],
   "source": [
    "t2"
   ]
  },
  {
   "cell_type": "code",
   "execution_count": 12,
   "id": "f2e2957b-1062-4c46-b46b-ac490b0eb3e6",
   "metadata": {},
   "outputs": [],
   "source": [
    "cube = lambda x: x**3"
   ]
  },
  {
   "cell_type": "code",
   "execution_count": 13,
   "id": "909fd149-5055-4f62-b515-6df690930ca6",
   "metadata": {},
   "outputs": [
    {
     "data": {
      "text/plain": [
       "8"
      ]
     },
     "execution_count": 13,
     "metadata": {},
     "output_type": "execute_result"
    }
   ],
   "source": [
    "cube(2)"
   ]
  },
  {
   "cell_type": "code",
   "execution_count": null,
   "id": "755b7169-0166-4e1c-89f3-260e8ed394ab",
   "metadata": {},
   "outputs": [],
   "source": []
  }
 ],
 "metadata": {
  "kernelspec": {
   "display_name": "Python [conda env:base] *",
   "language": "python",
   "name": "conda-base-py"
  },
  "language_info": {
   "codemirror_mode": {
    "name": "ipython",
    "version": 3
   },
   "file_extension": ".py",
   "mimetype": "text/x-python",
   "name": "python",
   "nbconvert_exporter": "python",
   "pygments_lexer": "ipython3",
   "version": "3.13.5"
  }
 },
 "nbformat": 4,
 "nbformat_minor": 5
}
