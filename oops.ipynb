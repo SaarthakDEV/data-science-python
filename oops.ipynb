{
 "cells": [
  {
   "cell_type": "code",
   "execution_count": 6,
   "id": "4cafab88-d533-48df-8a28-d29cbb99eabf",
   "metadata": {},
   "outputs": [
    {
     "name": "stdout",
     "output_type": "stream",
     "text": [
      "The company of Saarthak having salary INR400000 is HP\n",
      "Time is now\n",
      "the company is HP\n"
     ]
    }
   ],
   "source": [
    "class Employee:\n",
    "    #this is a class attribute\n",
    "    company = \"HP\"\n",
    "\n",
    "    def __init__(self, name, salary):\n",
    "        self.name = name\n",
    "        self.salary = salary\n",
    "\n",
    "    def printDetails(self):\n",
    "        print(f\"The company of {self.name} having salary INR{self.salary} is {self.company}\")\n",
    "\n",
    "    #static method decorator is used when we dont want to use self and also it is not needed in the method\n",
    "    @staticmethod\n",
    "    def getTime():\n",
    "        print(f\"Time is now\")\n",
    "\n",
    "    # used when we want to access class details\n",
    "    @classmethod\n",
    "    def getClassAttribute(cls):\n",
    "        print(f\"the company is {cls.company}\")\n",
    "        \n",
    "\n",
    "e = Employee(\"Saarthak\", 400000)\n",
    "e.printDetails()\n",
    "e.getTime()\n",
    "e.getClassAttribute()"
   ]
  },
  {
   "cell_type": "code",
   "execution_count": null,
   "id": "b093123a-4d3d-4893-a89f-8357cb0228a2",
   "metadata": {},
   "outputs": [],
   "source": []
  }
 ],
 "metadata": {
  "kernelspec": {
   "display_name": "Python [conda env:base] *",
   "language": "python",
   "name": "conda-base-py"
  },
  "language_info": {
   "codemirror_mode": {
    "name": "ipython",
    "version": 3
   },
   "file_extension": ".py",
   "mimetype": "text/x-python",
   "name": "python",
   "nbconvert_exporter": "python",
   "pygments_lexer": "ipython3",
   "version": "3.13.5"
  }
 },
 "nbformat": 4,
 "nbformat_minor": 5
}
